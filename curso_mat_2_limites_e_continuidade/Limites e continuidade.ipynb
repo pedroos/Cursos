{
 "cells": [
  {
   "cell_type": "code",
   "execution_count": 14,
   "metadata": {},
   "outputs": [
    {
     "data": {
      "image/png": "[encoded data removed]",
      "text/latex": [
       "$$x^{3} - x^{2} - x + 1$$"
      ],
      "text/plain": [
       " 3    2        \n",
       "x  - x  - x + 1"
      ]
     },
     "metadata": {},
     "output_type": "display_data"
    },
    {
     "data": {
      "image/png": "[encoded data removed]",
      "text/latex": [
       "$$x^{3} - x^{2} - x + 1 = 0$$"
      ],
      "text/plain": [
       " 3    2            \n",
       "x  - x  - x + 1 = 0"
      ]
     },
     "metadata": {},
     "output_type": "display_data"
    },
    {
     "data": {
      "image/png": "[encoded data removed]",
      "text/latex": [
       "$$\\left [ -1, \\quad 1\\right ]$$"
      ],
      "text/plain": [
       "[-1, 1]"
      ]
     },
     "metadata": {},
     "output_type": "display_data"
    }
   ],
   "source": [
    "import matplotlib.pyplot as plt\n",
    "from numpy import *\n",
    "from sympy import *\n",
    "x=Symbol('x')\n",
    "p=x**3-x**2-x+1\n",
    "display(p)\n",
    "pr=Eq(p,0)\n",
    "display(pr)\n",
    "r=solve(pr)\n",
    "display(r)"
   ]
  },
  {
   "cell_type": "code",
   "execution_count": 34,
   "metadata": {},
   "outputs": [
    {
     "data": {
      "image/png": "[encoded data removed]",
      "text/latex": [
       "$$\\left(x - 1\\right)^{2} \\geq 0$$"
      ],
      "text/plain": [
       "       2    \n",
       "(x - 1)  ≥ 0"
      ]
     },
     "metadata": {},
     "output_type": "display_data"
    },
    {
     "data": {
      "image/png": "[encoded data removed]",
      "text/latex": [
       "$$\\mathrm{True}$$"
      ],
      "text/plain": [
       "True"
      ]
     },
     "metadata": {},
     "output_type": "display_data"
    }
   ],
   "source": [
    "i=(x-1)**2>=0\n",
    "display(i)\n",
    "s=solve(i)\n",
    "display(s)"
   ]
  },
  {
   "cell_type": "code",
   "execution_count": 36,
   "metadata": {},
   "outputs": [
    {
     "data": {
      "image/png": "[encoded data removed]",
      "text/latex": [
       "$$x^{3} - x^{2} - x + 1 > 0$$"
      ],
      "text/plain": [
       " 3    2            \n",
       "x  - x  - x + 1 > 0"
      ]
     },
     "metadata": {},
     "output_type": "display_data"
    },
    {
     "data": {
      "image/png": "[encoded data removed]",
      "text/latex": [
       "$$\\left(-1 < x \\wedge x < 1\\right) \\vee \\left(1 < x \\wedge x < \\infty\\right)$$"
      ],
      "text/plain": [
       "(-1 < x ∧ x < 1) ∨ (1 < x ∧ x < ∞)"
      ]
     },
     "execution_count": 36,
     "metadata": {},
     "output_type": "execute_result"
    }
   ],
   "source": [
    "i=p>0\n",
    "display(i)\n",
    "solve(i)"
   ]
  },
  {
   "cell_type": "code",
   "execution_count": 46,
   "metadata": {},
   "outputs": [
    {
     "data": {
      "image/png": "[encoded data removed]",
      "text/latex": [
       "$$x^{3} - x^{2} - x + 1$$"
      ],
      "text/plain": [
       " 3    2        \n",
       "x  - x  - x + 1"
      ]
     },
     "metadata": {},
     "output_type": "display_data"
    },
    {
     "data": {
      "image/png": "[encoded data removed]",
      "text/latex": [
       "$$\\frac{1}{x} \\left(x^{3} - x^{2} - x + 1\\right)$$"
      ],
      "text/plain": [
       " 3    2        \n",
       "x  - x  - x + 1\n",
       "───────────────\n",
       "       x       "
      ]
     },
     "metadata": {},
     "output_type": "display_data"
    }
   ],
   "source": [
    "#synthetic division (doesn't work)\n",
    "p=x**3-x**2-x+1\n",
    "display(p)\n",
    "pd=x\n",
    "p2=p/pd\n",
    "display(p2)"
   ]
  },
  {
   "cell_type": "code",
   "execution_count": 48,
   "metadata": {},
   "outputs": [
    {
     "data": {
      "image/png": "[encoded data removed]",
      "text/latex": [
       "$$\\frac{3 x + 1}{x - 3} < 1$$"
      ],
      "text/plain": [
       "3⋅x + 1    \n",
       "─────── < 1\n",
       " x - 3     "
      ]
     },
     "metadata": {},
     "output_type": "display_data"
    },
    {
     "data": {
      "image/png": "[encoded data removed]",
      "text/latex": [
       "$$-2 < x \\wedge x < 3$$"
      ],
      "text/plain": [
       "-2 < x ∧ x < 3"
      ]
     },
     "execution_count": 48,
     "metadata": {},
     "output_type": "execute_result"
    }
   ],
   "source": [
    "p=(3*x+1)/(x-3)\n",
    "i=p<1\n",
    "display(i)\n",
    "solve(i)"
   ]
  },
  {
   "cell_type": "markdown",
   "metadata": {},
   "source": [
    "[4.4.1]"
   ]
  },
  {
   "cell_type": "code",
   "execution_count": 22,
   "metadata": {},
   "outputs": [
    {
     "data": {
      "image/png": "[encoded data removed]",
      "text/latex": [
       "$$3 x + 24$$"
      ],
      "text/plain": [
       "3⋅x + 24"
      ]
     },
     "metadata": {},
     "output_type": "display_data"
    },
    {
     "data": {
      "text/plain": [
       "<function numpy.<lambda>(_Dummy_147)>"
      ]
     },
     "metadata": {},
     "output_type": "display_data"
    },
    {
     "data": {
      "image/png": "[encoded data removed]",
      "text/plain": [
       "<Figure size 432x288 with 1 Axes>"
      ]
     },
     "metadata": {},
     "output_type": "display_data"
    }
   ],
   "source": [
    "dq=3*x+24\n",
    "display(dq)\n",
    "f=3*x**2\n",
    "display(lam_x)\n",
    "x_vals=linspace(0,10,100)\n",
    "y_vals=lam_x(x_vals)\n",
    "plt.plot(x_vals,y_vals)\n",
    "plt.scatter([50,2],[200,4])\n",
    "plt.show()"
   ]
  },
  {
   "cell_type": "code",
   "execution_count": null,
   "metadata": {},
   "outputs": [],
   "source": []
  },
  {
   "cell_type": "code",
   "execution_count": null,
   "metadata": {},
   "outputs": [],
   "source": []
  }
 ],
 "metadata": {
  "kernelspec": {
   "display_name": "Python 3",
   "language": "python",
   "name": "python3"
  },
  "language_info": {
   "codemirror_mode": {
    "name": "ipython",
    "version": 3
   },
   "file_extension": ".py",
   "mimetype": "text/x-python",
   "name": "python",
   "nbconvert_exporter": "python",
   "pygments_lexer": "ipython3",
   "version": "3.6.5"
  }
 },
 "nbformat": 4,
 "nbformat_minor": 2
}
